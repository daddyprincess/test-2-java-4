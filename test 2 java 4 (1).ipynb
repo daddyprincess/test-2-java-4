{
 "cells": [
  {
   "cell_type": "markdown",
   "id": "ea3f7ca3-4465-416b-9f41-3531de6e6b18",
   "metadata": {},
   "source": [
    "## 4.largest number of three"
   ]
  },
  {
   "cell_type": "code",
   "execution_count": null,
   "id": "80935ff5-1984-44e9-90fe-35dc332563f3",
   "metadata": {},
   "outputs": [],
   "source": [
    "import java.util.Scanner;\n",
    "\n",
    "public class LargestNumberFinder {\n",
    "    public static void main(String[] args) {\n",
    "        Scanner scanner = new Scanner(System.in);\n",
    "\n",
    "        System.out.println(\"Enter three numbers:\");\n",
    "\n",
    "        int num1 = scanner.nextInt();\n",
    "        int num2 = scanner.nextInt();\n",
    "        int num3 = scanner.nextInt();\n",
    "\n",
    "        int largest;\n",
    "\n",
    "        if (num1 >= num2) {\n",
    "            if (num1 >= num3) {\n",
    "                largest = num1;\n",
    "            } else {\n",
    "                largest = num3;\n",
    "            }\n",
    "        } else {\n",
    "            if (num2 >= num3) {\n",
    "                largest = num2;\n",
    "            } else {\n",
    "                largest = num3;\n",
    "            }\n",
    "        }\n",
    "\n",
    "        System.out.println(\"The largest number is: \" + largest);\n",
    "\n",
    "        scanner.close();\n",
    "    }\n",
    "}\n"
   ]
  }
 ],
 "metadata": {
  "kernelspec": {
   "display_name": "Python 3 (ipykernel)",
   "language": "python",
   "name": "python3"
  },
  "language_info": {
   "codemirror_mode": {
    "name": "ipython",
    "version": 3
   },
   "file_extension": ".py",
   "mimetype": "text/x-python",
   "name": "python",
   "nbconvert_exporter": "python",
   "pygments_lexer": "ipython3",
   "version": "3.10.8"
  }
 },
 "nbformat": 4,
 "nbformat_minor": 5
}
